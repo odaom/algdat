{
 "cells": [
  {
   "cell_type": "markdown",
   "metadata": {},
   "source": [
    "# Problems\n",
    "\n",
    "## 1-1\n",
    "\n",
    "[Help](https://cs.stackexchange.com/questions/44944/n-log-n-c-what-are-some-good-approximations-of-this)"
   ]
  },
  {
   "cell_type": "code",
   "execution_count": 338,
   "metadata": {},
   "outputs": [],
   "source": [
    "using Pkg\n",
    "#Pkg.add(\"DataFrames\")\n",
    "#Pkg.add(\"DataStructures\")\n",
    "using DataFrames\n",
    "using DataStructures"
   ]
  },
  {
   "cell_type": "code",
   "execution_count": 264,
   "metadata": {},
   "outputs": [
    {
     "data": {
      "text/plain": [
       "binarysearch (generic function with 1 method)"
      ]
     },
     "execution_count": 264,
     "metadata": {},
     "output_type": "execute_result"
    }
   ],
   "source": [
    "function binarysearch_guess(func, time, last=62)\n",
    "    for i = 0:last\n",
    "        guess = 2^i\n",
    "        if func(guess) > time\n",
    "            return binarysearch(func, 2^(i - 1), guess, time) \n",
    "        end\n",
    "    end\n",
    "    return -1\n",
    "end\n",
    "        \n",
    "function binarysearch(func, first, last, target)\n",
    "    found = false\n",
    "    midpoint = 0\n",
    "    while (first <= last) && !found\n",
    "        midpoint = Int(floor((first + last) / 2))\n",
    "        if func(midpoint) <= target && func(midpoint + 1) > target\n",
    "            found = true\n",
    "        else\n",
    "            if func(midpoint) > target\n",
    "                last = midpoint - 1\n",
    "            else\n",
    "                first = midpoint + 1\n",
    "            end\n",
    "        end\n",
    "    end\n",
    "    return midpoint \n",
    "end"
   ]
  },
  {
   "cell_type": "code",
   "execution_count": null,
   "metadata": {},
   "outputs": [],
   "source": []
  },
  {
   "cell_type": "code",
   "execution_count": 373,
   "metadata": {},
   "outputs": [],
   "source": [
    "times = [1, 60, 60*60, 60*60*24, 60*60*24*30, 60*60*24*365, 60*60*24*365*100] .* 10^6 \n",
    "df = DataFrame(func = String[], second = Int128[], minute = Int128[], hour = Int128[], day = Int128[], month = Int128[], year = Int128[], century = Int128[])\n",
    "\n",
    "functionspecs = [x -> x, x -> x * log2(x), x -> x^2, x -> x^3, x -> 2^x]#, factorial];\n",
    "functionnames = [\"n\", \"n lg n\", \"n^2\", \"n^3\", \"2^n\"]#, \"factorial(n)\"]\n",
    "functions = OrderedDict{String,Function}()\n",
    "for (index, name) in enumerate(functionnames)\n",
    "    get!(functions, name, functionspecs[index])\n",
    "end"
   ]
  },
  {
   "cell_type": "code",
   "execution_count": 374,
   "metadata": {},
   "outputs": [],
   "source": [
    "push!(df, vcat(\"lg n\", [Int128(2)^time for time in times]))\n",
    "push!(df, vcat(\"√n\", [time^2 for time in times]))\n",
    "\n",
    "for (name, func) in functions\n",
    "    push!(df, vcat(name, [guess for guess in [binarysearch_guess(func, time) for time in times]]))\n",
    "end\n",
    "\n",
    "push!(df, vcat(\"n!\", [0 for time in times]));"
   ]
  },
  {
   "cell_type": "markdown",
   "metadata": {},
   "source": [
    "Largest size n that can be solved in time t, given 1000 steps per second"
   ]
  },
  {
   "cell_type": "code",
   "execution_count": 375,
   "metadata": {},
   "outputs": [
    {
     "data": {
      "text/html": [
       "<table class=\"data-frame\"><thead><tr><th></th><th>func</th><th>second</th><th>minute</th><th>hour</th><th>day</th></tr><tr><th></th><th>String</th><th>Int128</th><th>Int128</th><th>Int128</th><th>Int128</th></tr></thead><tbody><p>8 rows × 8 columns (omitted printing of 3 columns)</p><tr><th>1</th><td>lg n</td><td>0</td><td>0</td><td>0</td><td>0</td></tr><tr><th>2</th><td>√n</td><td>1000000000000</td><td>3600000000000000</td><td>-5486744073709551616</td><td>-5971349852368404480</td></tr><tr><th>3</th><td>n</td><td>1000000</td><td>60000000</td><td>3600000000</td><td>86400000000</td></tr><tr><th>4</th><td>n lg n</td><td>62746</td><td>2801417</td><td>133378058</td><td>2755147513</td></tr><tr><th>5</th><td>n^2</td><td>1000</td><td>7745</td><td>60000</td><td>293938</td></tr><tr><th>6</th><td>n^3</td><td>100</td><td>391</td><td>1532</td><td>4420</td></tr><tr><th>7</th><td>2^n</td><td>19</td><td>25</td><td>31</td><td>-1</td></tr><tr><th>8</th><td>n!</td><td>0</td><td>0</td><td>0</td><td>0</td></tr></tbody></table>"
      ],
      "text/latex": [
       "\\begin{tabular}{r|cccccc}\n",
       "\t& func & second & minute & hour & day & \\\\\n",
       "\t\\hline\n",
       "\t& String & Int128 & Int128 & Int128 & Int128 & \\\\\n",
       "\t\\hline\n",
       "\t1 & lg n & 0 & 0 & 0 & 0 & $\\dots$ \\\\\n",
       "\t2 & √n & 1000000000000 & 3600000000000000 & -5486744073709551616 & -5971349852368404480 & $\\dots$ \\\\\n",
       "\t3 & n & 1000000 & 60000000 & 3600000000 & 86400000000 & $\\dots$ \\\\\n",
       "\t4 & n lg n & 62746 & 2801417 & 133378058 & 2755147513 & $\\dots$ \\\\\n",
       "\t5 & n\\^2 & 1000 & 7745 & 60000 & 293938 & $\\dots$ \\\\\n",
       "\t6 & n\\^3 & 100 & 391 & 1532 & 4420 & $\\dots$ \\\\\n",
       "\t7 & 2\\^n & 19 & 25 & 31 & -1 & $\\dots$ \\\\\n",
       "\t8 & n! & 0 & 0 & 0 & 0 & $\\dots$ \\\\\n",
       "\\end{tabular}\n"
      ],
      "text/plain": [
       "8×8 DataFrame. Omitted printing of 4 columns\n",
       "│ Row │ func   │ second        │ minute           │ hour                 │\n",
       "│     │ \u001b[90mString\u001b[39m │ \u001b[90mInt128\u001b[39m        │ \u001b[90mInt128\u001b[39m           │ \u001b[90mInt128\u001b[39m               │\n",
       "├─────┼────────┼───────────────┼──────────────────┼──────────────────────┤\n",
       "│ 1   │ lg n   │ 0             │ 0                │ 0                    │\n",
       "│ 2   │ √n     │ 1000000000000 │ 3600000000000000 │ -5486744073709551616 │\n",
       "│ 3   │ n      │ 1000000       │ 60000000         │ 3600000000           │\n",
       "│ 4   │ n lg n │ 62746         │ 2801417          │ 133378058            │\n",
       "│ 5   │ n^2    │ 1000          │ 7745             │ 60000                │\n",
       "│ 6   │ n^3    │ 100           │ 391              │ 1532                 │\n",
       "│ 7   │ 2^n    │ 19            │ 25               │ 31                   │\n",
       "│ 8   │ n!     │ 0             │ 0                │ 0                    │"
      ]
     },
     "execution_count": 375,
     "metadata": {},
     "output_type": "execute_result"
    }
   ],
   "source": [
    "df"
   ]
  },
  {
   "cell_type": "code",
   "execution_count": null,
   "metadata": {},
   "outputs": [],
   "source": []
  }
 ],
 "metadata": {
  "kernelspec": {
   "display_name": "Julia 1.1.1",
   "language": "julia",
   "name": "julia-1.1"
  },
  "language_info": {
   "file_extension": ".jl",
   "mimetype": "application/julia",
   "name": "julia",
   "version": "1.1.1"
  }
 },
 "nbformat": 4,
 "nbformat_minor": 4
}
