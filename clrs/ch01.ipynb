{
 "cells": [
  {
   "cell_type": "markdown",
   "metadata": {},
   "source": [
    "# Problems\n",
    "\n",
    "## 1-1\n",
    "\n",
    "[Help](https://cs.stackexchange.com/questions/44944/n-log-n-c-what-are-some-good-approximations-of-this)"
   ]
  },
  {
   "cell_type": "markdown",
   "metadata": {},
   "source": [
    "## Work"
   ]
  },
  {
   "cell_type": "code",
   "execution_count": 1,
   "metadata": {},
   "outputs": [],
   "source": [
    "using Pkg\n",
    "#Pkg.add(\"DataFrames\")\n",
    "#Pkg.add(\"DataStructures\")\n",
    "using DataFrames\n",
    "using DataStructures"
   ]
  },
  {
   "cell_type": "code",
   "execution_count": 2,
   "metadata": {},
   "outputs": [
    {
     "data": {
      "text/plain": [
       "binarysearch (generic function with 1 method)"
      ]
     },
     "execution_count": 2,
     "metadata": {},
     "output_type": "execute_result"
    }
   ],
   "source": [
    "function binarysearch_guess(func, time, last=62)\n",
    "    for i = 0:last\n",
    "        guess = big(2^i)\n",
    "        if func(guess) > time\n",
    "            return binarysearch(func, big(2^(i - 1)), guess, time) \n",
    "        end\n",
    "    end\n",
    "    return -1\n",
    "end\n",
    "        \n",
    "function binarysearch(func, first, last, target)\n",
    "    found = false\n",
    "    midpoint = 0\n",
    "    while (first <= last) && !found\n",
    "        midpoint = big(Int(floor((first + last) / 2)))\n",
    "        if func(midpoint) <= target && func(midpoint + 1) > target\n",
    "            found = true\n",
    "        else\n",
    "            if func(midpoint) > target\n",
    "                last = midpoint - 1\n",
    "            else\n",
    "                first = midpoint + 1\n",
    "            end\n",
    "        end\n",
    "    end\n",
    "    return midpoint \n",
    "end"
   ]
  },
  {
   "cell_type": "code",
   "execution_count": 24,
   "metadata": {},
   "outputs": [],
   "source": [
    "times = [1, 60, 60*60, 60*60*24, 60*60*24*30, 60*60*24*365, 60*60*24*365*100] .* 10^6 \n",
    "#df = DataFrame(fn = String[], second = Int128[], minute = Int128[], hour = Int128[], day = Int128[], month = Int128[], year = Int128[], century = Int128[])\n",
    "df = DataFrame(fn = String[], second = Float64[], minute = Float64[], hour = Float64[], day = Float64[], month = Float64[], year = Float64[], century = Float64[])\n",
    "\n",
    "functionspecs = [x -> x, x -> x * log2(x), x -> x^2, x -> x^3, x -> 2^x, factorial]\n",
    "functionnames = [\"n\", \"n lg n\", \"n^2\", \"n^3\", \"2^n\", \"n!\"]\n",
    "functions = OrderedDict{String,Function}()\n",
    "for (index, name) in enumerate(functionnames)\n",
    "    get!(functions, name, functionspecs[index])\n",
    "end"
   ]
  },
  {
   "cell_type": "code",
   "execution_count": 25,
   "metadata": {},
   "outputs": [],
   "source": [
    "push!(df, vcat(\"lg n\", [big(2.0)^time for time in times]))\n",
    "push!(df, vcat(\"√n\", [big(time)^2 for time in times]))\n",
    "\n",
    "for (name, func) in functions\n",
    "    push!(df, vcat(name, [guess for guess in [binarysearch_guess(func, time) for time in times]]))\n",
    "end\n",
    "\n",
    "#push!(df, vcat(\"n!\", [0 for time in times]));"
   ]
  },
  {
   "cell_type": "markdown",
   "metadata": {},
   "source": [
    "## Answer\n",
    "Largest size n that can be solved in time t, given 1000 steps per second"
   ]
  },
  {
   "cell_type": "code",
   "execution_count": 28,
   "metadata": {
    "jupyter": {
     "source_hidden": true
    }
   },
   "outputs": [
    {
     "data": {
      "text/html": [
       "<table class=\"data-frame\"><thead><tr><th></th><th>fn</th><th>second</th><th>minute</th><th>hour</th><th>day</th><th>month</th><th>year</th><th>century</th></tr><tr><th></th><th>String</th><th>Float64</th><th>Float64</th><th>Float64</th><th>Float64</th><th>Float64</th><th>Float64</th><th>Float64</th></tr></thead><tbody><p>8 rows × 8 columns</p><tr><th>1</th><td>lg n</td><td>Inf</td><td>Inf</td><td>Inf</td><td>Inf</td><td>Inf</td><td>Inf</td><td>Inf</td></tr><tr><th>2</th><td>√n</td><td>1.0e12</td><td>3.6e15</td><td>1.296e19</td><td>7.46496e21</td><td>6.71846e24</td><td>9.94519e26</td><td>9.94519e30</td></tr><tr><th>3</th><td>n</td><td>1.0e6</td><td>6.0e7</td><td>3.6e9</td><td>8.64e10</td><td>2.592e12</td><td>3.1536e13</td><td>3.1536e15</td></tr><tr><th>4</th><td>n lg n</td><td>62746.0</td><td>2.80142e6</td><td>1.33378e8</td><td>2.75515e9</td><td>7.18709e10</td><td>7.97634e11</td><td>6.8611e13</td></tr><tr><th>5</th><td>n^2</td><td>1000.0</td><td>7745.0</td><td>60000.0</td><td>293938.0</td><td>1.60997e6</td><td>5.61569e6</td><td>5.61569e7</td></tr><tr><th>6</th><td>n^3</td><td>100.0</td><td>391.0</td><td>1532.0</td><td>4420.0</td><td>13736.0</td><td>31593.0</td><td>146645.0</td></tr><tr><th>7</th><td>2^n</td><td>19.0</td><td>25.0</td><td>31.0</td><td>36.0</td><td>41.0</td><td>44.0</td><td>51.0</td></tr><tr><th>8</th><td>n!</td><td>9.0</td><td>11.0</td><td>12.0</td><td>13.0</td><td>15.0</td><td>16.0</td><td>17.0</td></tr></tbody></table>"
      ],
      "text/latex": [
       "\\begin{tabular}{r|cccccccc}\n",
       "\t& fn & second & minute & hour & day & month & year & century\\\\\n",
       "\t\\hline\n",
       "\t& String & Float64 & Float64 & Float64 & Float64 & Float64 & Float64 & Float64\\\\\n",
       "\t\\hline\n",
       "\t1 & lg n & Inf & Inf & Inf & Inf & Inf & Inf & Inf \\\\\n",
       "\t2 & √n & 1.0e12 & 3.6e15 & 1.296e19 & 7.46496e21 & 6.71846e24 & 9.94519e26 & 9.94519e30 \\\\\n",
       "\t3 & n & 1.0e6 & 6.0e7 & 3.6e9 & 8.64e10 & 2.592e12 & 3.1536e13 & 3.1536e15 \\\\\n",
       "\t4 & n lg n & 62746.0 & 2.80142e6 & 1.33378e8 & 2.75515e9 & 7.18709e10 & 7.97634e11 & 6.8611e13 \\\\\n",
       "\t5 & n\\^2 & 1000.0 & 7745.0 & 60000.0 & 293938.0 & 1.60997e6 & 5.61569e6 & 5.61569e7 \\\\\n",
       "\t6 & n\\^3 & 100.0 & 391.0 & 1532.0 & 4420.0 & 13736.0 & 31593.0 & 146645.0 \\\\\n",
       "\t7 & 2\\^n & 19.0 & 25.0 & 31.0 & 36.0 & 41.0 & 44.0 & 51.0 \\\\\n",
       "\t8 & n! & 9.0 & 11.0 & 12.0 & 13.0 & 15.0 & 16.0 & 17.0 \\\\\n",
       "\\end{tabular}\n"
      ],
      "text/plain": [
       "8×8 DataFrame. Omitted printing of 2 columns\n",
       "│ Row │ fn     │ second  │ minute    │ hour      │ day        │ month      │\n",
       "│     │ \u001b[90mString\u001b[39m │ \u001b[90mFloat64\u001b[39m │ \u001b[90mFloat64\u001b[39m   │ \u001b[90mFloat64\u001b[39m   │ \u001b[90mFloat64\u001b[39m    │ \u001b[90mFloat64\u001b[39m    │\n",
       "├─────┼────────┼─────────┼───────────┼───────────┼────────────┼────────────┤\n",
       "│ 1   │ lg n   │ Inf     │ Inf       │ Inf       │ Inf        │ Inf        │\n",
       "│ 2   │ √n     │ 1.0e12  │ 3.6e15    │ 1.296e19  │ 7.46496e21 │ 6.71846e24 │\n",
       "│ 3   │ n      │ 1.0e6   │ 6.0e7     │ 3.6e9     │ 8.64e10    │ 2.592e12   │\n",
       "│ 4   │ n lg n │ 62746.0 │ 2.80142e6 │ 1.33378e8 │ 2.75515e9  │ 7.18709e10 │\n",
       "│ 5   │ n^2    │ 1000.0  │ 7745.0    │ 60000.0   │ 293938.0   │ 1.60997e6  │\n",
       "│ 6   │ n^3    │ 100.0   │ 391.0     │ 1532.0    │ 4420.0     │ 13736.0    │\n",
       "│ 7   │ 2^n    │ 19.0    │ 25.0      │ 31.0      │ 36.0       │ 41.0       │\n",
       "│ 8   │ n!     │ 9.0     │ 11.0      │ 12.0      │ 13.0       │ 15.0       │"
      ]
     },
     "execution_count": 28,
     "metadata": {},
     "output_type": "execute_result"
    }
   ],
   "source": [
    "df"
   ]
  }
 ],
 "metadata": {
  "kernelspec": {
   "display_name": "Julia 1.1.1",
   "language": "julia",
   "name": "julia-1.1"
  },
  "language_info": {
   "file_extension": ".jl",
   "mimetype": "application/julia",
   "name": "julia",
   "version": "1.1.1"
  }
 },
 "nbformat": 4,
 "nbformat_minor": 4
}
